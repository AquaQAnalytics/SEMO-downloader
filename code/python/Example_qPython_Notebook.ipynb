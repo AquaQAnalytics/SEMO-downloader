{
 "cells": [
  {
   "cell_type": "code",
   "execution_count": null,
   "metadata": {},
   "outputs": [],
   "source": [
    "from qpython.qconnection import QConnection\n",
    "import plotly.express as px"
   ]
  },
  {
   "cell_type": "code",
   "execution_count": null,
   "metadata": {},
   "outputs": [],
   "source": [
    "with QConnection(host = '<hostname>', port = <portnumber>, username = '<user>', password = '<pass>') as q:\n",
    "    print(q)\n",
    "    data=q(\"\"\"select datetime,priceeur from indexprices where date within (2020.12.10; 2020.12.12), \n",
    "           auctionname=`SEM_DA, marketarea=`ROI_DA\"\"\", pandas = True)"
   ]
  },
  {
   "cell_type": "code",
   "execution_count": null,
   "metadata": {},
   "outputs": [],
   "source": [
    "fig = px.line(data, x='datetime', y=\"priceeur\", \n",
    "              labels={\"priceeur\":\"Price (€/MWh)\",\"datetime\":\"Date Time\"},\n",
    "             title=\"Index Price\")\n",
    "fig.show()"
   ]
  }
 ],
 "metadata": {
  "kernelspec": {
   "display_name": "Python 3",
   "language": "python",
   "name": "python3"
  },
  "language_info": {
   "codemirror_mode": {
    "name": "ipython",
    "version": 3
   },
   "file_extension": ".py",
   "mimetype": "text/x-python",
   "name": "python",
   "nbconvert_exporter": "python",
   "pygments_lexer": "ipython3",
   "version": "3.8.5"
  }
 },
 "nbformat": 4,
 "nbformat_minor": 4
}
